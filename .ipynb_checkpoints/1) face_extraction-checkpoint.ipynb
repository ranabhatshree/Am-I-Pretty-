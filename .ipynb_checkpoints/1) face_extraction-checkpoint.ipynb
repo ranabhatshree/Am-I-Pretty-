{
 "cells": [
  {
   "cell_type": "code",
   "execution_count": 1,
   "metadata": {},
   "outputs": [],
   "source": [
    "import cv2\n",
    "import numpy as np\n",
    "import os \n",
    "import matplotlib.pyplot as plt"
   ]
  },
  {
   "cell_type": "code",
   "execution_count": 2,
   "metadata": {},
   "outputs": [],
   "source": [
    "# Load the cascade\n",
    "face_cascade = cv2.CascadeClassifier('xml/haarcascade_frontalface_default.xml')"
   ]
  },
  {
   "cell_type": "code",
   "execution_count": 140,
   "metadata": {},
   "outputs": [],
   "source": [
    "def extract_face(img_path):\n",
    "    img = cv2.imread(img_path)\n",
    "    \n",
    "    if type(img) == np.ndarray:\n",
    "        # Convert into grayscale\n",
    "        gray = cv2.cvtColor(img, cv2.COLOR_BGR2GRAY)\n",
    "\n",
    "        # Detect faces\n",
    "        faces = face_cascade.detectMultiScale(gray, 1.1, 4)\n",
    "\n",
    "        if len(faces) > 0:\n",
    "            img_crop = 0\n",
    "            for (x, y, w, h) in faces:\n",
    "                img_crop = img[y:y+h, x:x+w]\n",
    "            return img_crop\n",
    "        else:\n",
    "            print(\"Sorry! No Face Detected.\")\n",
    "            return []"
   ]
  },
  {
   "cell_type": "code",
   "execution_count": 141,
   "metadata": {},
   "outputs": [],
   "source": [
    "def create_dir(dir_name):\n",
    "    if not os.path.exists(dir_name):\n",
    "        os.makedirs(dir_name)"
   ]
  },
  {
   "cell_type": "code",
   "execution_count": 142,
   "metadata": {},
   "outputs": [],
   "source": [
    "# Loading Random Pictures Downloaded From Google\n",
    "\n",
    "path = \"data_collected_from_google\"\n",
    "classes = ['pretty', 'not_pretty']\n",
    "save_to = \"data_cascaded\"\n",
    "img_height = 80\n",
    "img_width = 80\n",
    "img_channel = 3"
   ]
  },
  {
   "cell_type": "code",
   "execution_count": 143,
   "metadata": {},
   "outputs": [],
   "source": [
    "# Get all images from directories and extract faces only\n",
    "def extract_images(source, destination):\n",
    "    for my_dir in os.listdir(source):\n",
    "        dir_name = os.path.join(destination, my_dir)\n",
    "        create_dir(dir_name)\n",
    "        print(\"{} created success..\".format(dir_name))\n",
    "        curr_dir = os.path.join(source, my_dir)\n",
    "        i = 0\n",
    "        for file in os.listdir(curr_dir):\n",
    "            file = os.path.join(curr_dir, file)\n",
    "            face_only = extract_face(file)\n",
    "            if len(face_only) > 0:\n",
    "                # resizing\n",
    "                face_only = cv2.resize(face_only, (img_width, img_height))\n",
    "                img_name = \"{}.jpg\".format(i)\n",
    "                cv2.imwrite(os.path.join(dir_name, img_name) , face_only)\n",
    "                print(\"{} written to {} success\".format(img_name, curr_dir))\n",
    "                i += 1"
   ]
  },
  {
   "cell_type": "code",
   "execution_count": 144,
   "metadata": {},
   "outputs": [
    {
     "name": "stdout",
     "output_type": "stream",
     "text": [
      "data_cascaded\\not_pretty created success..\n",
      "0.jpg written to data_collected_from_google\\not_pretty success\n",
      "1.jpg written to data_collected_from_google\\not_pretty success\n",
      "Sorry! No Face Detected.\n",
      "2.jpg written to data_collected_from_google\\not_pretty success\n",
      "3.jpg written to data_collected_from_google\\not_pretty success\n",
      "Sorry! No Face Detected.\n",
      "4.jpg written to data_collected_from_google\\not_pretty success\n",
      "5.jpg written to data_collected_from_google\\not_pretty success\n",
      "6.jpg written to data_collected_from_google\\not_pretty success\n",
      "7.jpg written to data_collected_from_google\\not_pretty success\n",
      "8.jpg written to data_collected_from_google\\not_pretty success\n",
      "9.jpg written to data_collected_from_google\\not_pretty success\n",
      "10.jpg written to data_collected_from_google\\not_pretty success\n",
      "11.jpg written to data_collected_from_google\\not_pretty success\n",
      "12.jpg written to data_collected_from_google\\not_pretty success\n",
      "13.jpg written to data_collected_from_google\\not_pretty success\n",
      "14.jpg written to data_collected_from_google\\not_pretty success\n",
      "15.jpg written to data_collected_from_google\\not_pretty success\n",
      "16.jpg written to data_collected_from_google\\not_pretty success\n",
      "Sorry! No Face Detected.\n",
      "Sorry! No Face Detected.\n",
      "17.jpg written to data_collected_from_google\\not_pretty success\n",
      "18.jpg written to data_collected_from_google\\not_pretty success\n",
      "19.jpg written to data_collected_from_google\\not_pretty success\n",
      "20.jpg written to data_collected_from_google\\not_pretty success\n",
      "21.jpg written to data_collected_from_google\\not_pretty success\n",
      "22.jpg written to data_collected_from_google\\not_pretty success\n",
      "23.jpg written to data_collected_from_google\\not_pretty success\n",
      "24.jpg written to data_collected_from_google\\not_pretty success\n",
      "25.jpg written to data_collected_from_google\\not_pretty success\n",
      "26.jpg written to data_collected_from_google\\not_pretty success\n",
      "27.jpg written to data_collected_from_google\\not_pretty success\n",
      "28.jpg written to data_collected_from_google\\not_pretty success\n",
      "Sorry! No Face Detected.\n",
      "29.jpg written to data_collected_from_google\\not_pretty success\n",
      "30.jpg written to data_collected_from_google\\not_pretty success\n",
      "31.jpg written to data_collected_from_google\\not_pretty success\n",
      "32.jpg written to data_collected_from_google\\not_pretty success\n",
      "33.jpg written to data_collected_from_google\\not_pretty success\n",
      "34.jpg written to data_collected_from_google\\not_pretty success\n",
      "35.jpg written to data_collected_from_google\\not_pretty success\n",
      "36.jpg written to data_collected_from_google\\not_pretty success\n",
      "Sorry! No Face Detected.\n",
      "37.jpg written to data_collected_from_google\\not_pretty success\n",
      "38.jpg written to data_collected_from_google\\not_pretty success\n",
      "39.jpg written to data_collected_from_google\\not_pretty success\n",
      "Sorry! No Face Detected.\n",
      "40.jpg written to data_collected_from_google\\not_pretty success\n",
      "41.jpg written to data_collected_from_google\\not_pretty success\n",
      "42.jpg written to data_collected_from_google\\not_pretty success\n",
      "Sorry! No Face Detected.\n",
      "43.jpg written to data_collected_from_google\\not_pretty success\n",
      "44.jpg written to data_collected_from_google\\not_pretty success\n",
      "45.jpg written to data_collected_from_google\\not_pretty success\n",
      "46.jpg written to data_collected_from_google\\not_pretty success\n",
      "47.jpg written to data_collected_from_google\\not_pretty success\n",
      "48.jpg written to data_collected_from_google\\not_pretty success\n",
      "Sorry! No Face Detected.\n",
      "49.jpg written to data_collected_from_google\\not_pretty success\n",
      "50.jpg written to data_collected_from_google\\not_pretty success\n",
      "Sorry! No Face Detected.\n",
      "51.jpg written to data_collected_from_google\\not_pretty success\n",
      "Sorry! No Face Detected.\n",
      "52.jpg written to data_collected_from_google\\not_pretty success\n",
      "53.jpg written to data_collected_from_google\\not_pretty success\n",
      "Sorry! No Face Detected.\n",
      "54.jpg written to data_collected_from_google\\not_pretty success\n",
      "55.jpg written to data_collected_from_google\\not_pretty success\n",
      "56.jpg written to data_collected_from_google\\not_pretty success\n",
      "57.jpg written to data_collected_from_google\\not_pretty success\n",
      "Sorry! No Face Detected.\n",
      "Sorry! No Face Detected.\n",
      "58.jpg written to data_collected_from_google\\not_pretty success\n"
     ]
    },
    {
     "ename": "TypeError",
     "evalue": "object of type 'NoneType' has no len()",
     "output_type": "error",
     "traceback": [
      "\u001b[1;31m---------------------------------------------------------------------------\u001b[0m",
      "\u001b[1;31mTypeError\u001b[0m                                 Traceback (most recent call last)",
      "\u001b[1;32m<ipython-input-144-bed176ff922b>\u001b[0m in \u001b[0;36m<module>\u001b[1;34m\u001b[0m\n\u001b[1;32m----> 1\u001b[1;33m \u001b[0mextract_images\u001b[0m\u001b[1;33m(\u001b[0m\u001b[0mpath\u001b[0m\u001b[1;33m,\u001b[0m \u001b[0msave_to\u001b[0m\u001b[1;33m)\u001b[0m\u001b[1;33m\u001b[0m\u001b[1;33m\u001b[0m\u001b[0m\n\u001b[0m",
      "\u001b[1;32m<ipython-input-143-798d97124bb9>\u001b[0m in \u001b[0;36mextract_images\u001b[1;34m(source, destination)\u001b[0m\n\u001b[0;32m     10\u001b[0m             \u001b[0mfile\u001b[0m \u001b[1;33m=\u001b[0m \u001b[0mos\u001b[0m\u001b[1;33m.\u001b[0m\u001b[0mpath\u001b[0m\u001b[1;33m.\u001b[0m\u001b[0mjoin\u001b[0m\u001b[1;33m(\u001b[0m\u001b[0mcurr_dir\u001b[0m\u001b[1;33m,\u001b[0m \u001b[0mfile\u001b[0m\u001b[1;33m)\u001b[0m\u001b[1;33m\u001b[0m\u001b[1;33m\u001b[0m\u001b[0m\n\u001b[0;32m     11\u001b[0m             \u001b[0mface_only\u001b[0m \u001b[1;33m=\u001b[0m \u001b[0mextract_face\u001b[0m\u001b[1;33m(\u001b[0m\u001b[0mfile\u001b[0m\u001b[1;33m)\u001b[0m\u001b[1;33m\u001b[0m\u001b[1;33m\u001b[0m\u001b[0m\n\u001b[1;32m---> 12\u001b[1;33m             \u001b[1;32mif\u001b[0m \u001b[0mlen\u001b[0m\u001b[1;33m(\u001b[0m\u001b[0mface_only\u001b[0m\u001b[1;33m)\u001b[0m \u001b[1;33m>\u001b[0m \u001b[1;36m0\u001b[0m\u001b[1;33m:\u001b[0m\u001b[1;33m\u001b[0m\u001b[1;33m\u001b[0m\u001b[0m\n\u001b[0m\u001b[0;32m     13\u001b[0m                 \u001b[1;31m# resizing\u001b[0m\u001b[1;33m\u001b[0m\u001b[1;33m\u001b[0m\u001b[1;33m\u001b[0m\u001b[0m\n\u001b[0;32m     14\u001b[0m                 \u001b[0mface_only\u001b[0m \u001b[1;33m=\u001b[0m \u001b[0mcv2\u001b[0m\u001b[1;33m.\u001b[0m\u001b[0mresize\u001b[0m\u001b[1;33m(\u001b[0m\u001b[0mface_only\u001b[0m\u001b[1;33m,\u001b[0m \u001b[1;33m(\u001b[0m\u001b[0mimg_width\u001b[0m\u001b[1;33m,\u001b[0m \u001b[0mimg_height\u001b[0m\u001b[1;33m)\u001b[0m\u001b[1;33m)\u001b[0m\u001b[1;33m\u001b[0m\u001b[1;33m\u001b[0m\u001b[0m\n",
      "\u001b[1;31mTypeError\u001b[0m: object of type 'NoneType' has no len()"
     ]
    }
   ],
   "source": [
    "extract_images(path, save_to)"
   ]
  },
  {
   "cell_type": "code",
   "execution_count": null,
   "metadata": {},
   "outputs": [],
   "source": []
  }
 ],
 "metadata": {
  "kernelspec": {
   "display_name": "Python 3",
   "language": "python",
   "name": "python3"
  },
  "language_info": {
   "codemirror_mode": {
    "name": "ipython",
    "version": 3
   },
   "file_extension": ".py",
   "mimetype": "text/x-python",
   "name": "python",
   "nbconvert_exporter": "python",
   "pygments_lexer": "ipython3",
   "version": "3.7.6"
  }
 },
 "nbformat": 4,
 "nbformat_minor": 4
}
